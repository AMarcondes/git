{
 "cells": [
  {
   "cell_type": "markdown",
   "metadata": {},
   "source": [
    "# Análise de dados - Censo INEP"
   ]
  },
  {
   "cell_type": "markdown",
   "metadata": {},
   "source": [
    "Notebook para a análise exploratória do arquivo \"senai_filtered_data.csv\"."
   ]
  },
  {
   "cell_type": "markdown",
   "metadata": {},
   "source": [
    "# Dicionário dos atributos"
   ]
  },
  {
   "cell_type": "markdown",
   "metadata": {},
   "source": [
    "| NOME DA VARIÁVEL | DESCRIÇÃO DA VARIÁVEL | TIPO | TAM | DESCRIÇÃO DAS CATEGORIAS |\n",
    "|------------------|-----------------------|------|-----|--------------------------|\n",
    "| CO_IES                      | Código único de identificação da IES                     | Num | 8 |                                         | CO_CURSO | Código único de identificação do curso gerado pelo E-MEC | Num | 8 |                                                          \n",
    "| CO_CURSO                    | Código único de identificação do curso gerado pelo E-MEC | Num | 8 |                                         \n",
    "| TP_TURNO                    | Tipo do turno do curso ao qual o aluno está vinculado    | Num | 1 | 1. Matutino 2. Vespertino 3. Noturno 4. Integral (.) Não aplicável (Ead)                                                                                                                                                        |\n",
    "| TP_GRAU_ACADEMICO           | Tipo do grau acadêmico conferido ao diplomado pelo curso | Num | 1 | 1. Bacharelado 2. Licenciatura 3. Tecnológico 4. Bacharelado e Licenciatura (.) Não aplicável (cursos com nivel acadêmico igual a sequencial de formação específica ou  cursos com área básica de curso)                        |\n",
    "| TP_MODALIDADE_ENSINO        | Tipo da modalidade de ensino do curso                    | Num | 1 | 1. Presencial 2. Curso a distância     \n",
    "| TP_COR_RACA                    | Tipo da cor/raça do aluno                                                                                                  | Num  | 1  | 0. Aluno não quis declarar cor/raça   1. Branca 2. Preta 3. Parda 4. Amarela 5. Indígena 9. Não dispõe da informação (Não resposta)                                             |\n",
    "| TP_SEXO                        | Informa o sexo do aluno                                                                                                    | Num  | 1  | 1. Feminino 2. Masculino               \n",
    "| NU_IDADE                       | Idade que o aluno completa no ano de referência do Censo                                                                   | Num  | 3  |                                                                                                                                                                                 |\n",
    "| TP_NACIONALIDADE               | Tipo da nacionalidade do aluno                                                                                             | Num  | 1  | 1. Brasileira 2. Brasileira - nascido no exterior ou naturalizado 3. Estrangeira\n",
    "| IN_DEFICIENCIA                 | Informa se o aluno é uma pessoa com deficiência, transtorno global do desenvolvimento ou altas habilidades/superdotação    | Num  | 1  | 0. Não 1. Sim                           9. Não dispõe de informação (Não resposta)                                                                                              |\n",
    "| IN_DEFICIENCIA_AUDITIVA        | Informa se o aluno é uma pessoa com deficiência auditiva                                                                   | Num  | 1  | 0. Não (Aluno possui outro tipo de deficiência) 1. Sim  (.) Aluno não possui qualquer tipo de deficiência                                                                       |\n",
    "| IN_DEFICIENCIA_FISICA          | Informa se o aluno é uma pessoa com deficiência física                                                                     | Num  | 1  | 0. Não (Aluno possui outro tipo de deficiência) 1. Sim  (.) Aluno não possui qualquer tipo de deficiência                                                                       |\n",
    "| IN_DEFICIENCIA_INTELECTUAL     | Informa se o aluno é uma pessoa com deficiência intelectual                                                                | Num  | 1  | 0. Não (Aluno possui outro tipo de deficiência) 1. Sim  (.) Aluno não possui qualquer tipo de deficiência                                                                       |\n",
    "| IN_DEFICIENCIA_MULTIPLA        | Informa se o aluno é uma pessoa com deficiência múltipla                                                                   | Num  | 1  | 0. Não (Aluno possui outro tipo de deficiência) 1. Sim  (.) Aluno não possui qualquer tipo de deficiência                                                                       |\n",
    "| IN_DEFICIENCIA_SURDEZ          | Informa se o aluno é uma pessoa surda                                                                                      | Num  | 1  | 0. Não (Aluno possui outro tipo de deficiência) 1. Sim  (.) Aluno não possui qualquer tipo de deficiência                                                                       |\n",
    "| IN_DEFICIENCIA_SURDOCEGUEIRA   | Informa se o aluno é uma pessoa com surdocegueira                                                                          | Num  | 1  | 0. Não (Aluno possui outro tipo de deficiência) 1. Sim  (.) Aluno não possui qualquer tipo de deficiência                                                                       |\n",
    "| IN_DEFICIENCIA_BAIXA_VISAO     | Informa se o aluno é uma pessoa com baixa visão                                                                            | Num  | 1  | 0. Não (Aluno possui outro tipo de deficiência) 1. Sim  (.) Aluno não possui qualquer tipo de deficiência                                                                       |\n",
    "| IN_DEFICIENCIA_CEGUEIRA        | Informa se o aluno é uma pessoa cega                                                                                       | Num  | 1  | 0. Não (Aluno possui outro tipo de deficiência) 1. Sim  (.) Aluno não possui qualquer tipo de deficiência                                                                       |\n",
    "| IN_DEFICIENCIA_SUPERDOTACAO    | Informa se o aluno é uma pessoa com altas habilidades/superdotação                                                         | Num  | 1  | 0. Não (Aluno possui outro tipo de deficiência) 1. Sim  (.) Aluno não possui qualquer tipo de deficiência                                                                       |\n",
    "| IN_TGD_AUTISMO                 | Informa se o aluno é uma pessoa com autismo infantil                                                                       | Num  | 1  | 0. Não (Aluno possui outro tipo de deficiência) 1. Sim  (.) Aluno não possui qualquer tipo de deficiência                                                                       |\n",
    "| IN_TGD_SINDROME_ASPERGER       | Informa se o aluno é uma pessoa com Síndrome de Asperger                                                                   | Num  | 1  | 0. Não (Aluno possui outro tipo de deficiência) 1. Sim  (.) Aluno não possui qualquer tipo de deficiência                                                                       |\n",
    "| IN_TGD_SINDROME_RETT           | Informa se o aluno é uma pessoa com Síndrome de Rett                                                                       | Num  | 1  | 0. Não (Aluno possui outro tipo de deficiência) 1. Sim  (.) Aluno não possui qualquer tipo de deficiência                                                                       |\n",
    "| IN_TGD_TRANSTOR_DESINTEGRATIVO | Informa se o aluno é uma pessoa com Transtorno Desintegrativo da Infância                                                  | Num  | 1  | 0. Não (Aluno possui outro tipo de deficiência) 1. Sim  (.) Aluno não possui qualquer tipo de deficiência                                                                       |\n",
    "| TP_SITUACAO                    | Tipo de situação de vínculo do aluno no curso                                                                              | Num  | 1  | 2.Cursando 3. Matrícula trancada 4. Desvinculado do curso 5. Transferido para outro curso da mesma IES 6. Formado                                                   7. Falecido |\n",
    "| DT_INGRESSO_CURSO              | Data de ingresso do aluno no curso correspondente ao 1º semestre (01/01/2015) e ao 2º semestre (01/07/2015)                                                                                            | Num | 8 |\n",
    "| IN_RESERVA_VAGAS               | Informa se o aluno participa de programa de reserva de vagas\"                                                                                                                                          | Num | 1 | 0. Não 1. Sim                                                                                                                         |\n",
    "| IN_RESERVA_ETNICO              | Informa se o aluno ingressou por meio de programa de reserva de vagas de cunho etnico                                                                                                                  | Num | 1 | 0. Não (Aluno possui outro tipo de reserva de vagas) 1. Sim  (.) Aluno não possui qualquer tipo de reserva de vagas                   |\n",
    "| IN_RESERVA_DEFICIENCIA         | informa se o aluno ingressou por meio de programa de reserva de vagas para pessoas com deficiência                                                                                                     | Num | 1 | 0. Não (Aluno possui outro tipo de reserva de vagas) 1. Sim  (.) Aluno não possui qualquer tipo de reserva de vagas                   |\n",
    "| IN_RESERVA_ENSINO_PUBLICO      |  Informa se o aluno ingressou por meio de programa de reserva de vagas para egressos da escola pública                                                                                                 | Num | 1 | 0. Não (Aluno possui outro tipo de reserva de vagas) 1. Sim  (.) Aluno não possui qualquer tipo de reserva de vagas                   |\n",
    "| IN_RESERVA_RENDA_FAMILIAR      | Informa se o aluno ingressou por meio de programa de reserva de vagas de cunho social/renda familiar                                                                                                   | Num | 1 | 0. Não (Aluno possui outro tipo de reserva de vagas) 1. Sim  (.) Aluno não possui qualquer tipo de reserva de vagas                   |\n",
    "| IN_RESERVA_OUTRA               | Informa se o aluno ingressou por meio de programas de reserva de vagas diferentes dos seguintes tipos : étnico, pessoa com deficiência, estudante procedente de escola pública, social/renda familiar  | Num | 1 | 0. Não (Aluno possui outro tipo de reserva de vagas) 1. Sim  (.) Aluno não possui qualquer tipo de reserva de vagas                   |\n",
    "| IN_FINANCIAMENTO_ESTUDANTIL    | Informa se o aluno utiliza financiamento estudantil                                                                                                                                                    | Num | 1 | 0. Não 1. Sim                                                                                                                         |\n",
    "| IN_FIN_REEMB_FIES              | Informa se o aluno utiliza o Fundo de Financiamento Estudantil (Fies) como forma de financimanto estudantil reembolsável                                                                               | Num | 1 | 0. Não (Aluno possui outro tipo de financiamento) 1. Sim  (.) Aluno não possui qualquer tipo de financiamento                         |\n",
    "| IN_FIN_REEMB_ESTADUAL          | Informa se o aluno utiliza financiamento estudantil reembolsável do governo estadual                                                                                                                   | Num | 1 | 0. Não (Aluno possui outro tipo de financiamento) 1. Sim  (.) Aluno não possui qualquer tipo de financiamento                         |\n",
    "| IN_FIN_REEMB_MUNICIPAL         | Informa se o aluno utiliza financiamento estudantil reembolsável do governo municipal                                                                                                                  | Num | 1 | 0. Não (Aluno possui outro tipo de financiamento) 1. Sim  (.) Aluno não possui qualquer tipo de financiamento                         |\n",
    "| IN_FIN_REEMB_PROG_IES          | Informa se o aluno utiliza financiamento estudantil reembolsável administrado pela IES                                                                                                                 | Num | 1 | 0. Não (Aluno possui outro tipo de financiamento) 1. Sim  (.) Aluno não possui qualquer tipo de financiamento                         |\n",
    "| IN_FIN_REEMB_ENT_EXTERNA       | Informa se o aluno utiliza financiamento estudantil reembolsável administrado por entidades externas à IES                                                                                             | Num | 1 | 0. Não (Aluno possui outro tipo de financiamento) 1. Sim  (.) Aluno não possui qualquer tipo de financiamento                         |\n",
    "| IN_FIN_REEMB_OUTRA             | Informa se o aluno utiliza financiamento estudantil reembolsável administrado por outras entidades                                                                                                     | Num | 1 | 0. Não (Aluno possui outro tipo de financiamento) 1. Sim  (.) Aluno não possui qualquer tipo de financiamento                         |\n",
    "| IN_FIN_NAOREEMB_PROUNI_INTEGR  | Informa se o aluno é bolsista integral do Programa Universidade para Todos (Prouni), tipo de financiamento estudantil não reembolsável                                                                 | Num | 1 | 0. Não (Aluno possui outro tipo de financiamento) 1. Sim  (.) Aluno não possui qualquer tipo de financiamento                         |\n",
    "| IN_FIN_NAOREEMB_PROUNI_PARCIAL | Informa se o aluno é bolsista parcial do Programa Universidade para Todos (Prouni), tipo de financiamento estudantil não reembolsável                                                                  | Num | 1 | 0. Não (Aluno possui outro tipo de financiamento) 1. Sim  (.) Aluno não possui qualquer tipo de financiamento                         |\n",
    "| IN_FIN_NAOREEMB_ESTADUAL       | Informa se o aluno utiliza financiamento estudantil estadual não reembolsável                                                                                                                          | Num | 1 | 0. Não (Aluno possui outro tipo de financiamento) 1. Sim  (.) Aluno não possui qualquer tipo de financiamento                         |\n",
    "| IN_FIN_NAOREEMB_MUNICIPAL      | Informa se o aluno utiliza financiamento estudantil municipal não reembolsável                                                                                                                         | Num | 1 | 0. Não (Aluno possui outro tipo de financiamento) 1. Sim  (.) Aluno não possui qualquer tipo de financiamento                         |\n",
    "| IN_FIN_NAOREEMB_PROG_IES       | Informa se o aluno utiliza financiamento estudantil não reembolsável administrado pela IES                                                                                                             | Num | 1 | 0. Não (Aluno possui outro tipo de financiamento) 1. Sim  (.) Aluno não possui qualquer tipo de financiamento                         |\n",
    "| IN_FIN_NAOREEMB_ENT_EXTERNA    | Informa se o aluno utiliza financiamento estudantil não reembolsável administrado por entidades externas à IES                                                                                         | Num | 1 | 0. Não (Aluno possui outro tipo de financiamento) 1. Sim  (.) Aluno não possui qualquer tipo de financiamento                         |\n",
    "| IN_FIN_NAOREEMB_OUTRA          | Informa se o aluno utiliza financiamento estudantil não reembolsável administrado por outras formas                                                                                                    | Num | 1 | 0. Não (Aluno possui outro tipo de financiamento) 1. Sim  (.) Aluno não possui qualquer tipo de financiamento                         |\n",
    "| IN_APOIO_SOCIAL                | Informa se o aluno recebe algum tipo de apoio social na forma de moradia, transporte, alimentação, material didático e bolsas (trabalho/permanência)                                                   | Num | 1 | 0. Não 1. Sim                                                                                                                         |\n",
    "| IN_APOIO_ALIMENTACAO           | Informa se o aluno recebe apoio alimentação                                                                                                                                                            | Num | 1 | 0. Não (Aluno possui outro tipo de apoio social) 1. Sim  (.) Aluno não possui qualquer tipo de apoio social                           |\n",
    "| IN_APOIO_BOLSA_PERMANENCIA     | Informa se o aluno recebe auxílio financeiro destinado a alunos em situação de vulnerabilidade socioeconômica ou pertencente a grupos étnicos específicos                                              | Num | 1 | 0. Não (Aluno possui outro tipo de apoio social) 1. Sim  (.) Aluno não possui qualquer tipo de apoio social                           |\n",
    "| IN_APOIO_BOLSA_TRABALHO        | Informa se o aluno recebe remuneração referente a trabalhos prestados nas dependências da IES ou unidades vinculadas                                                                                   | Num | 1 | 0. Não (Aluno possui outro tipo de apoio social) 1. Sim  (.) Aluno não possui qualquer tipo de apoio social                           |\n",
    "| IN_APOIO_MATERIAL_DIDATICO     | Informa se o aluno recebe apoio para aquisição de material didático                                                                                                                                    | Num | 1 | 0. Não (Aluno possui outro tipo de apoio social) 1. Sim  (.) Aluno não possui qualquer tipo de apoio social                           |\n",
    "| IN_APOIO_MORADIA               | Informa se o aluno recebe apoio moradia.                                                                                                                                                               | Num | 1 | 0. Não (Aluno possui outro tipo de apoio social) 1. Sim  (.) Aluno não possui qualquer tipo de apoio social                           |\n",
    "| IN_APOIO_TRANSPORTE            | Informa se o aluno recebe apoio para transporte até a IES                                                                                                                                              | Num | 1 | 0. Não (Aluno possui outro tipo de apoio social) 1. Sim  (.) Aluno não possui qualquer tipo de apoio social                           |\n",
    "| IN_ATIVIDADE_EXTRACURRICULAR   | Informa se o aluno participa de algum tipo de atividade extracurricular (estágio não obrigatório, extensão, monitoria e pesquisa)                                                                      | Num | 1 | 0. Não 1. Sim                                                                                                                         |\n",
    "| IN_COMPLEMENTAR_ESTAGIO        | Informa se o aluno faz atividade extracurricular de estágio não obrigatório visando ao seu aperfeiçoamento profissional                                                                                | Num | 1 | 0. Não (Aluno possui outro tipo de atividade extracurricular) 1. Sim  (.) Aluno não possui qualquer tipo de atividade extracurricular |\n",
    "| IN_COMPLEMENTAR_EXTENSAO       | Informa se o aluno participa de atividade extracurricular de extensão                                                                                                                                  | Num | 1 | 0. Não (Aluno possui outro tipo de atividade extracurricular) 1. Sim  (.) Aluno não possui qualquer tipo de atividade extracurricular |\n",
    "| IN_COMPLEMENTAR_MONITORIA      | Informa se o aluno participa de atividade extracurricular de monitoria                                                                                                                                 | Num | 1 | 0. Não (Aluno possui outro tipo de atividade extracurricular) 1. Sim  (.) Aluno não possui qualquer tipo de atividade extracurricular |\n",
    "| IN_BOLSA_PESQUISA             | Informa se o aluno recebe bolsa/remuneração por participar de atividade extracurricular de pesquisa.                                                            | Num | 1 | 0. Não (Aluno faz atividade extracurricular de pesquisa, mas não recebe bolsa) 1. Sim  (.) Aluno não faz atividade extracurricular de pesquisa |\n",
    "| TP_ESCOLA_CONCLUSAO_ENS_MEDIO | Tipo de escola que o aluno concluiu ensino médio                                                                                                                | Num | 1 | 1. Pública 2. Privada                                                  9. Não dispõe da informação (Não resposta)                              |\n",
    "| IN_MATRICULA                  | Informa se o aluno é matriculado no curso                                                | Num | 1 | 0. Situação diferente de matrícula 1. Situação de matrícula;                                                                    |\n",
    "| IN_CONCLUINTE                 | Informa se o aluno é concluinte                                                          | Num | 1 | 0. Situação diferente de concluinte 1. Situação de concluinte           |\n",
    "| NU_ANO_INGRESSO               | Ano de ingresso do aluno no curso                                                        | Num | 1 |                                                                                                                      |\n"
   ]
  },
  {
   "cell_type": "markdown",
   "metadata": {},
   "source": [
    "# Bibliotecas"
   ]
  },
  {
   "cell_type": "code",
   "execution_count": 28,
   "metadata": {},
   "outputs": [],
   "source": [
    "# Data\n",
    "import pandas as pd\n",
    "\n",
    "\n",
    "# Plot\n",
    "import matplotlib as plt\n",
    "import seaborn as sns\n",
    "sns.set_style('whitegrid')\n",
    "%matplotlib inline"
   ]
  },
  {
   "cell_type": "markdown",
   "metadata": {},
   "source": [
    "# Dataframe"
   ]
  },
  {
   "cell_type": "code",
   "execution_count": 3,
   "metadata": {},
   "outputs": [],
   "source": [
    "path = '/home/alexandremarcondes/sprints/sprint_gde_01/sprint_git/analise_dados_inep/'\n",
    "file = 'senai_filtered_data.csv'"
   ]
  },
  {
   "cell_type": "code",
   "execution_count": 11,
   "metadata": {},
   "outputs": [],
   "source": [
    "df = pd.read_csv(path+file)\n",
    "df = df.drop(columns=['Unnamed: 0'])"
   ]
  },
  {
   "cell_type": "code",
   "execution_count": 12,
   "metadata": {},
   "outputs": [
    {
     "data": {
      "text/html": [
       "<div>\n",
       "<style scoped>\n",
       "    .dataframe tbody tr th:only-of-type {\n",
       "        vertical-align: middle;\n",
       "    }\n",
       "\n",
       "    .dataframe tbody tr th {\n",
       "        vertical-align: top;\n",
       "    }\n",
       "\n",
       "    .dataframe thead th {\n",
       "        text-align: right;\n",
       "    }\n",
       "</style>\n",
       "<table border=\"1\" class=\"dataframe\">\n",
       "  <thead>\n",
       "    <tr style=\"text-align: right;\">\n",
       "      <th></th>\n",
       "      <th>CO_IES</th>\n",
       "      <th>NO_IES</th>\n",
       "      <th>CO_CURSO</th>\n",
       "      <th>NO_CURSO</th>\n",
       "      <th>TP_TURNO</th>\n",
       "      <th>TP_GRAU_ACADEMICO</th>\n",
       "      <th>TP_MODALIDADE_ENSINO</th>\n",
       "      <th>ID_ALUNO</th>\n",
       "      <th>TP_COR_RACA</th>\n",
       "      <th>TP_SEXO</th>\n",
       "      <th>...</th>\n",
       "      <th>IN_COMPLEMENTAR_MONITORIA</th>\n",
       "      <th>IN_COMPLEMENTAR_PESQUISA</th>\n",
       "      <th>IN_BOLSA_ESTAGIO</th>\n",
       "      <th>IN_BOLSA_EXTENSAO</th>\n",
       "      <th>IN_BOLSA_MONITORIA</th>\n",
       "      <th>IN_BOLSA_PESQUISA</th>\n",
       "      <th>TP_ESCOLA_CONCLUSAO_ENS_MEDIO</th>\n",
       "      <th>IN_MATRICULA</th>\n",
       "      <th>IN_CONCLUINTE</th>\n",
       "      <th>NU_ANO_INGRESSO</th>\n",
       "    </tr>\n",
       "  </thead>\n",
       "  <tbody>\n",
       "    <tr>\n",
       "      <th>0</th>\n",
       "      <td>1400</td>\n",
       "      <td>FACULDADE DA INDÚSTRIA SÃO JOSÉ DOS PINHAIS</td>\n",
       "      <td>20516</td>\n",
       "      <td>ADMINISTRAÇÃO</td>\n",
       "      <td>3.0</td>\n",
       "      <td>1.0</td>\n",
       "      <td>1</td>\n",
       "      <td>C2E870F652B2299ED62D4AA8038A9422</td>\n",
       "      <td>1</td>\n",
       "      <td>1</td>\n",
       "      <td>...</td>\n",
       "      <td>NaN</td>\n",
       "      <td>NaN</td>\n",
       "      <td>NaN</td>\n",
       "      <td>NaN</td>\n",
       "      <td>NaN</td>\n",
       "      <td>NaN</td>\n",
       "      <td>1</td>\n",
       "      <td>0</td>\n",
       "      <td>0</td>\n",
       "      <td>2009</td>\n",
       "    </tr>\n",
       "    <tr>\n",
       "      <th>1</th>\n",
       "      <td>1400</td>\n",
       "      <td>FACULDADE DA INDÚSTRIA SÃO JOSÉ DOS PINHAIS</td>\n",
       "      <td>20516</td>\n",
       "      <td>ADMINISTRAÇÃO</td>\n",
       "      <td>3.0</td>\n",
       "      <td>1.0</td>\n",
       "      <td>1</td>\n",
       "      <td>81A4D85417E7123C8DF075A0A2629E8E</td>\n",
       "      <td>0</td>\n",
       "      <td>1</td>\n",
       "      <td>...</td>\n",
       "      <td>NaN</td>\n",
       "      <td>NaN</td>\n",
       "      <td>NaN</td>\n",
       "      <td>NaN</td>\n",
       "      <td>NaN</td>\n",
       "      <td>NaN</td>\n",
       "      <td>1</td>\n",
       "      <td>1</td>\n",
       "      <td>1</td>\n",
       "      <td>2009</td>\n",
       "    </tr>\n",
       "    <tr>\n",
       "      <th>2</th>\n",
       "      <td>1400</td>\n",
       "      <td>FACULDADE DA INDÚSTRIA SÃO JOSÉ DOS PINHAIS</td>\n",
       "      <td>20516</td>\n",
       "      <td>ADMINISTRAÇÃO</td>\n",
       "      <td>3.0</td>\n",
       "      <td>1.0</td>\n",
       "      <td>1</td>\n",
       "      <td>77F900FA4B592D61029032DCA66D9F55</td>\n",
       "      <td>2</td>\n",
       "      <td>2</td>\n",
       "      <td>...</td>\n",
       "      <td>NaN</td>\n",
       "      <td>NaN</td>\n",
       "      <td>NaN</td>\n",
       "      <td>NaN</td>\n",
       "      <td>NaN</td>\n",
       "      <td>NaN</td>\n",
       "      <td>1</td>\n",
       "      <td>1</td>\n",
       "      <td>1</td>\n",
       "      <td>2014</td>\n",
       "    </tr>\n",
       "    <tr>\n",
       "      <th>3</th>\n",
       "      <td>1400</td>\n",
       "      <td>FACULDADE DA INDÚSTRIA SÃO JOSÉ DOS PINHAIS</td>\n",
       "      <td>20516</td>\n",
       "      <td>ADMINISTRAÇÃO</td>\n",
       "      <td>3.0</td>\n",
       "      <td>1.0</td>\n",
       "      <td>1</td>\n",
       "      <td>4D21A9481680ED505C359CE9A0F8F212</td>\n",
       "      <td>0</td>\n",
       "      <td>2</td>\n",
       "      <td>...</td>\n",
       "      <td>NaN</td>\n",
       "      <td>NaN</td>\n",
       "      <td>NaN</td>\n",
       "      <td>NaN</td>\n",
       "      <td>NaN</td>\n",
       "      <td>NaN</td>\n",
       "      <td>9</td>\n",
       "      <td>0</td>\n",
       "      <td>0</td>\n",
       "      <td>2006</td>\n",
       "    </tr>\n",
       "    <tr>\n",
       "      <th>4</th>\n",
       "      <td>1400</td>\n",
       "      <td>FACULDADE DA INDÚSTRIA SÃO JOSÉ DOS PINHAIS</td>\n",
       "      <td>20516</td>\n",
       "      <td>ADMINISTRAÇÃO</td>\n",
       "      <td>3.0</td>\n",
       "      <td>1.0</td>\n",
       "      <td>1</td>\n",
       "      <td>63341AACBCB526FE3A929666DE581731</td>\n",
       "      <td>0</td>\n",
       "      <td>1</td>\n",
       "      <td>...</td>\n",
       "      <td>NaN</td>\n",
       "      <td>NaN</td>\n",
       "      <td>NaN</td>\n",
       "      <td>NaN</td>\n",
       "      <td>NaN</td>\n",
       "      <td>NaN</td>\n",
       "      <td>1</td>\n",
       "      <td>0</td>\n",
       "      <td>0</td>\n",
       "      <td>2010</td>\n",
       "    </tr>\n",
       "  </tbody>\n",
       "</table>\n",
       "<p>5 rows × 68 columns</p>\n",
       "</div>"
      ],
      "text/plain": [
       "   CO_IES                                       NO_IES  CO_CURSO  \\\n",
       "0    1400  FACULDADE DA INDÚSTRIA SÃO JOSÉ DOS PINHAIS     20516   \n",
       "1    1400  FACULDADE DA INDÚSTRIA SÃO JOSÉ DOS PINHAIS     20516   \n",
       "2    1400  FACULDADE DA INDÚSTRIA SÃO JOSÉ DOS PINHAIS     20516   \n",
       "3    1400  FACULDADE DA INDÚSTRIA SÃO JOSÉ DOS PINHAIS     20516   \n",
       "4    1400  FACULDADE DA INDÚSTRIA SÃO JOSÉ DOS PINHAIS     20516   \n",
       "\n",
       "        NO_CURSO  TP_TURNO  TP_GRAU_ACADEMICO  TP_MODALIDADE_ENSINO  \\\n",
       "0  ADMINISTRAÇÃO       3.0                1.0                     1   \n",
       "1  ADMINISTRAÇÃO       3.0                1.0                     1   \n",
       "2  ADMINISTRAÇÃO       3.0                1.0                     1   \n",
       "3  ADMINISTRAÇÃO       3.0                1.0                     1   \n",
       "4  ADMINISTRAÇÃO       3.0                1.0                     1   \n",
       "\n",
       "                           ID_ALUNO  TP_COR_RACA  TP_SEXO  ...  \\\n",
       "0  C2E870F652B2299ED62D4AA8038A9422            1        1  ...   \n",
       "1  81A4D85417E7123C8DF075A0A2629E8E            0        1  ...   \n",
       "2  77F900FA4B592D61029032DCA66D9F55            2        2  ...   \n",
       "3  4D21A9481680ED505C359CE9A0F8F212            0        2  ...   \n",
       "4  63341AACBCB526FE3A929666DE581731            0        1  ...   \n",
       "\n",
       "   IN_COMPLEMENTAR_MONITORIA  IN_COMPLEMENTAR_PESQUISA  IN_BOLSA_ESTAGIO  \\\n",
       "0                        NaN                       NaN               NaN   \n",
       "1                        NaN                       NaN               NaN   \n",
       "2                        NaN                       NaN               NaN   \n",
       "3                        NaN                       NaN               NaN   \n",
       "4                        NaN                       NaN               NaN   \n",
       "\n",
       "   IN_BOLSA_EXTENSAO  IN_BOLSA_MONITORIA  IN_BOLSA_PESQUISA  \\\n",
       "0                NaN                 NaN                NaN   \n",
       "1                NaN                 NaN                NaN   \n",
       "2                NaN                 NaN                NaN   \n",
       "3                NaN                 NaN                NaN   \n",
       "4                NaN                 NaN                NaN   \n",
       "\n",
       "   TP_ESCOLA_CONCLUSAO_ENS_MEDIO  IN_MATRICULA  IN_CONCLUINTE  NU_ANO_INGRESSO  \n",
       "0                              1             0              0             2009  \n",
       "1                              1             1              1             2009  \n",
       "2                              1             1              1             2014  \n",
       "3                              9             0              0             2006  \n",
       "4                              1             0              0             2010  \n",
       "\n",
       "[5 rows x 68 columns]"
      ]
     },
     "execution_count": 12,
     "metadata": {},
     "output_type": "execute_result"
    }
   ],
   "source": [
    "df.head()"
   ]
  },
  {
   "cell_type": "code",
   "execution_count": 9,
   "metadata": {},
   "outputs": [
    {
     "data": {
      "text/plain": [
       "(3309, 69)"
      ]
     },
     "execution_count": 9,
     "metadata": {},
     "output_type": "execute_result"
    }
   ],
   "source": [
    "df.shape"
   ]
  },
  {
   "cell_type": "code",
   "execution_count": 15,
   "metadata": {},
   "outputs": [
    {
     "name": "stdout",
     "output_type": "stream",
     "text": [
      "<class 'pandas.core.frame.DataFrame'>\n",
      "RangeIndex: 3309 entries, 0 to 3308\n",
      "Data columns (total 68 columns):\n",
      "CO_IES                            3309 non-null int64\n",
      "NO_IES                            3309 non-null object\n",
      "CO_CURSO                          3309 non-null int64\n",
      "NO_CURSO                          3309 non-null object\n",
      "TP_TURNO                          3309 non-null float64\n",
      "TP_GRAU_ACADEMICO                 3309 non-null float64\n",
      "TP_MODALIDADE_ENSINO              3309 non-null int64\n",
      "ID_ALUNO                          3309 non-null object\n",
      "TP_COR_RACA                       3309 non-null int64\n",
      "TP_SEXO                           3309 non-null int64\n",
      "NU_IDADE                          3309 non-null int64\n",
      "TP_NACIONALIDADE                  3309 non-null int64\n",
      "IN_DEFICIENCIA                    3309 non-null int64\n",
      "TP_SITUACAO                       3309 non-null int64\n",
      "IN_DEFICIENCIA_AUDITIVA           13 non-null float64\n",
      "IN_DEFICIENCIA_FISICA             13 non-null float64\n",
      "IN_DEFICIENCIA_INTELECTUAL        13 non-null float64\n",
      "IN_DEFICIENCIA_MULTIPLA           13 non-null float64\n",
      "IN_DEFICIENCIA_SURDEZ             13 non-null float64\n",
      "IN_DEFICIENCIA_SURDOCEGUEIRA      13 non-null float64\n",
      "IN_DEFICIENCIA_BAIXA_VISAO        13 non-null float64\n",
      "IN_DEFICIENCIA_CEGUEIRA           13 non-null float64\n",
      "IN_DEFICIENCIA_SUPERDOTACAO       13 non-null float64\n",
      "IN_TGD_AUTISMO                    13 non-null float64\n",
      "IN_TGD_SINDROME_ASPERGER          13 non-null float64\n",
      "IN_TGD_SINDROME_RETT              13 non-null float64\n",
      "IN_TGD_TRANSTOR_DESINTEGRATIVO    13 non-null float64\n",
      "DT_INGRESSO_CURSO                 3309 non-null object\n",
      "IN_RESERVA_VAGAS                  3309 non-null int64\n",
      "IN_RESERVA_ETNICO                 0 non-null float64\n",
      "IN_RESERVA_DEFICIENCIA            0 non-null float64\n",
      "IN_RESERVA_ENSINO_PUBLICO         0 non-null float64\n",
      "IN_RESERVA_RENDA_FAMILIAR         0 non-null float64\n",
      "IN_RESERVA_OUTRA                  0 non-null float64\n",
      "IN_FINANCIAMENTO_ESTUDANTIL       3309 non-null float64\n",
      "IN_FIN_REEMB_FIES                 15 non-null float64\n",
      "IN_FIN_REEMB_ESTADUAL             15 non-null float64\n",
      "IN_FIN_REEMB_MUNICIPAL            15 non-null float64\n",
      "IN_FIN_REEMB_PROG_IES             15 non-null float64\n",
      "IN_FIN_REEMB_ENT_EXTERNA          15 non-null float64\n",
      "IN_FIN_REEMB_OUTRA                0 non-null float64\n",
      "IN_FIN_NAOREEMB_PROUNI_INTEGR     15 non-null float64\n",
      "IN_FIN_NAOREEMB_PROUNI_PARCIAL    15 non-null float64\n",
      "IN_FIN_NAOREEMB_ESTADUAL          15 non-null float64\n",
      "IN_FIN_NAOREEMB_MUNICIPAL         15 non-null float64\n",
      "IN_FIN_NAOREEMB_PROG_IES          15 non-null float64\n",
      "IN_FIN_NAOREEMB_ENT_EXTERNA       15 non-null float64\n",
      "IN_FIN_NAOREEMB_OUTRA             0 non-null float64\n",
      "IN_APOIO_SOCIAL                   3309 non-null int64\n",
      "IN_APOIO_ALIMENTACAO              38 non-null float64\n",
      "IN_APOIO_BOLSA_PERMANENCIA        38 non-null float64\n",
      "IN_APOIO_BOLSA_TRABALHO           38 non-null float64\n",
      "IN_APOIO_MATERIAL_DIDATICO        38 non-null float64\n",
      "IN_APOIO_MORADIA                  38 non-null float64\n",
      "IN_APOIO_TRANSPORTE               38 non-null float64\n",
      "IN_ATIVIDADE_EXTRACURRICULAR      3309 non-null int64\n",
      "IN_COMPLEMENTAR_ESTAGIO           34 non-null float64\n",
      "IN_COMPLEMENTAR_EXTENSAO          34 non-null float64\n",
      "IN_COMPLEMENTAR_MONITORIA         34 non-null float64\n",
      "IN_COMPLEMENTAR_PESQUISA          34 non-null float64\n",
      "IN_BOLSA_ESTAGIO                  1 non-null float64\n",
      "IN_BOLSA_EXTENSAO                 20 non-null float64\n",
      "IN_BOLSA_MONITORIA                16 non-null float64\n",
      "IN_BOLSA_PESQUISA                 3 non-null float64\n",
      "TP_ESCOLA_CONCLUSAO_ENS_MEDIO     3309 non-null int64\n",
      "IN_MATRICULA                      3309 non-null int64\n",
      "IN_CONCLUINTE                     3309 non-null int64\n",
      "NU_ANO_INGRESSO                   3309 non-null int64\n",
      "dtypes: float64(48), int64(16), object(4)\n",
      "memory usage: 1.7+ MB\n"
     ]
    }
   ],
   "source": [
    "df.info()"
   ]
  },
  {
   "cell_type": "markdown",
   "metadata": {},
   "source": [
    "# Análise exploratória"
   ]
  },
  {
   "cell_type": "markdown",
   "metadata": {},
   "source": [
    "Com os dados acima uma análise exploratória será realizada. Pretende-se observar a associação das características dos estudantes com a situação da matrícula (TP_SITUACAO). Então, pretende-se observar principalmente as características dos alunos que tem tendência a trancar a matrícula ou a se desvincular do curso.\n",
    "\n",
    "Uma análise estatística será realizada considerando os seguintes pontos principais:\n",
    "* Gênero;\n",
    "* Idade;\n",
    "* Raça;\n",
    "* Deficiências em seus diferentes tipos;\n",
    "* Bolsas ou benefícios financeiros que determinado aluno recebe;\n",
    "* Tipo de financiamento do aluno.\n",
    "\n",
    "Será verificado se estas características influenciam na situação da matrícula do aluno e também se os dados presentes nesta planilha são suficientes para tirar conclusões."
   ]
  },
  {
   "cell_type": "markdown",
   "metadata": {},
   "source": [
    "# Situação do aluno"
   ]
  },
  {
   "cell_type": "markdown",
   "metadata": {},
   "source": [
    "2.Cursando 3. Matrícula trancada 4. Desvinculado do curso 5. Transferido para outro curso da mesma IES 6. Formado 7. Falecido"
   ]
  },
  {
   "cell_type": "code",
   "execution_count": 36,
   "metadata": {},
   "outputs": [],
   "source": [
    "sit_list = []\n",
    "for item in df.TP_SITUACAO:\n",
    "    if item==2:\n",
    "        sit_list.append('Cursando')\n",
    "    elif item==3:\n",
    "        sit_list.append('Mat. Trancada')\n",
    "    if item==4:\n",
    "        sit_list.append('Desvinculado')\n",
    "    elif item==5:\n",
    "        sit_list.append('Transferido de curso')\n",
    "    if item==6:\n",
    "        sit_list.append('Formado')\n",
    "    elif item==7:\n",
    "        sit_list.append('Falecido')\n",
    "        \n",
    "df['NO_SITUACAO'] = sit_list"
   ]
  },
  {
   "cell_type": "code",
   "execution_count": 42,
   "metadata": {},
   "outputs": [
    {
     "data": {
      "text/plain": [
       "Cursando                1987\n",
       "Mat. Trancada            541\n",
       "Desvinculado             427\n",
       "Formado                  340\n",
       "Transferido de curso      14\n",
       "Name: NO_SITUACAO, dtype: int64"
      ]
     },
     "execution_count": 42,
     "metadata": {},
     "output_type": "execute_result"
    }
   ],
   "source": [
    "# 1. Feminino\n",
    "# 2. Masculino\n",
    "df['NO_SITUACAO'].value_counts()"
   ]
  },
  {
   "cell_type": "code",
   "execution_count": 44,
   "metadata": {},
   "outputs": [
    {
     "name": "stdout",
     "output_type": "stream",
     "text": [
      "Percentage:\n",
      " Cursando                0.600484\n",
      "Mat. Trancada           0.163494\n",
      "Desvinculado            0.129042\n",
      "Formado                 0.102750\n",
      "Transferido de curso    0.004231\n",
      "Name: NO_SITUACAO, dtype: float64\n"
     ]
    },
    {
     "data": {
      "text/plain": [
       "<matplotlib.axes._subplots.AxesSubplot at 0x7fdd9513e890>"
      ]
     },
     "execution_count": 44,
     "metadata": {},
     "output_type": "execute_result"
    },
    {
     "data": {
      "image/png": "[encoded data removed]",
      "text/plain": [
       "<Figure size 432x288 with 1 Axes>"
      ]
     },
     "metadata": {
      "needs_background": "light"
     },
     "output_type": "display_data"
    }
   ],
   "source": [
    "print('Percentage:\\n',df.NO_SITUACAO.value_counts(normalize=True))\n",
    "df.NO_SITUACAO.value_counts().plot(kind='bar', color=['red', 'green'])"
   ]
  },
  {
   "cell_type": "markdown",
   "metadata": {
    "slideshow": {
     "slide_type": "fragment"
    }
   },
   "source": [
    "# Gênero dos alunos"
   ]
  },
  {
   "cell_type": "markdown",
   "metadata": {},
   "source": [
    "Uma coluna com M e F será adicionada ao dataframe (1 se refere a masculino (M) e 2 se refere a feminino (F))."
   ]
  },
  {
   "cell_type": "code",
   "execution_count": 24,
   "metadata": {},
   "outputs": [],
   "source": [
    "gen_list = []\n",
    "for item in df.TP_SEXO:\n",
    "    if item==1:\n",
    "        gen_list.append('F')\n",
    "    else:\n",
    "        gen_list.append('M')\n",
    "df['SG_SEXO'] = gen_list"
   ]
  },
  {
   "cell_type": "code",
   "execution_count": 26,
   "metadata": {},
   "outputs": [
    {
     "data": {
      "text/plain": [
       "M    1930\n",
       "F    1379\n",
       "Name: SG_SEXO, dtype: int64"
      ]
     },
     "execution_count": 26,
     "metadata": {},
     "output_type": "execute_result"
    }
   ],
   "source": [
    "# 1. Feminino\n",
    "# 2. Masculino\n",
    "df['SG_SEXO'].value_counts()"
   ]
  },
  {
   "cell_type": "code",
   "execution_count": 34,
   "metadata": {},
   "outputs": [
    {
     "name": "stdout",
     "output_type": "stream",
     "text": [
      "Percentage:\n",
      " M    0.583258\n",
      "F    0.416742\n",
      "Name: SG_SEXO, dtype: float64\n"
     ]
    },
    {
     "data": {
      "text/plain": [
       "<matplotlib.axes._subplots.AxesSubplot at 0x7fdd951e5950>"
      ]
     },
     "execution_count": 34,
     "metadata": {},
     "output_type": "execute_result"
    },
    {
     "data": {
      "image/png": "[encoded data removed]",
      "text/plain": [
       "<Figure size 432x288 with 1 Axes>"
      ]
     },
     "metadata": {
      "needs_background": "light"
     },
     "output_type": "display_data"
    }
   ],
   "source": [
    "print('Percentage:\\n',df.SG_SEXO.value_counts(normalize=True))\n",
    "df.SG_SEXO.value_counts(normalize=True).plot(kind='bar', color=['red', 'green'])"
   ]
  },
  {
   "cell_type": "code",
   "execution_count": null,
   "metadata": {},
   "outputs": [],
   "source": []
  }
 ],
 "metadata": {
  "kernelspec": {
   "display_name": "Python [conda env:python_practice] *",
   "language": "python",
   "name": "conda-env-python_practice-py"
  },
  "language_info": {
   "codemirror_mode": {
    "name": "ipython",
    "version": 3
   },
   "file_extension": ".py",
   "mimetype": "text/x-python",
   "name": "python",
   "nbconvert_exporter": "python",
   "pygments_lexer": "ipython3",
   "version": "3.7.4"
  }
 },
 "nbformat": 4,
 "nbformat_minor": 2
}
